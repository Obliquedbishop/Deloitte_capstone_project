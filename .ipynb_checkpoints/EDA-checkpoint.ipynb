{
 "cells": [
  {
   "cell_type": "markdown",
   "id": "942c9494-4b42-418e-be2d-b3630ca5b29d",
   "metadata": {},
   "source": [
    "Here are some indicative types of analysis you can perform. Please note that this is not an exhaustive list, you may add more. \tCome up with appropriate results  for the followin- \\\n",
    "o\tIs there any relation between contract duration, charges and the customer chur \\n\n",
    "o\tIs the dataset balanc \\e\r\n",
    "o\tIdentify the relationship between the services offered and the churn r \\a.\r\n",
    "o\tDemographic analysis of the customers.\r\n"
   ]
  },
  {
   "cell_type": "code",
   "execution_count": 506,
   "id": "d7d93762-ce0d-4414-9a17-a7630523ce5f",
   "metadata": {},
   "outputs": [],
   "source": [
    "import pandas as pd\n",
    "import numpy as np\n",
    "import matplotlib.pyplot as plt\n",
    "import seaborn as sns\n",
    "import scipy as sp\n",
    "import os\n",
    "import re\n",
    "import gc\n",
    "\n",
    "pd.set_option('display.max_columns', None)"
   ]
  },
  {
   "cell_type": "markdown",
   "id": "13c18ba8-51a2-4502-81d2-fe316161fc2b",
   "metadata": {},
   "source": [
    "## Data Loading"
   ]
  },
  {
   "cell_type": "code",
   "execution_count": 13,
   "id": "0edee2c2-7df9-428b-8a8d-af1a11d5730e",
   "metadata": {
    "scrolled": true
   },
   "outputs": [
    {
     "data": {
      "text/plain": [
       "'C:\\\\Users\\\\shreyanlnu\\\\dev\\\\Deloitte_capstone_project\\\\TelecomData'"
      ]
     },
     "execution_count": 13,
     "metadata": {},
     "output_type": "execute_result"
    }
   ],
   "source": [
    "data_dir_path = os.path.abspath('dev/Deloitte_capstone_project/TelecomData')\n",
    "data_dir_path"
   ]
  },
  {
   "cell_type": "code",
   "execution_count": 314,
   "id": "51c48139-3cab-4f2b-9482-13b81133808e",
   "metadata": {},
   "outputs": [
    {
     "data": {
      "text/plain": [
       "['C:\\\\Users\\\\shreyanlnu\\\\dev\\\\Deloitte_capstone_project\\\\TelecomData\\\\Customer_account_info.xlsx',\n",
       " 'C:\\\\Users\\\\shreyanlnu\\\\dev\\\\Deloitte_capstone_project\\\\TelecomData\\\\Customer_Churn.csv',\n",
       " 'C:\\\\Users\\\\shreyanlnu\\\\dev\\\\Deloitte_capstone_project\\\\TelecomData\\\\Customer_demographics.xlsx',\n",
       " 'C:\\\\Users\\\\shreyanlnu\\\\dev\\\\Deloitte_capstone_project\\\\TelecomData\\\\Customer_services.xlsx']"
      ]
     },
     "execution_count": 314,
     "metadata": {},
     "output_type": "execute_result"
    }
   ],
   "source": [
    "datafile_names = os.listdir(data_dir_path)\n",
    "datafile_paths = [os.path.join(data_dir_path, datafile) for datafile in datafile_names]\n",
    "\n",
    "datafile_paths"
   ]
  },
  {
   "cell_type": "code",
   "execution_count": 42,
   "id": "2cfb25bc-0e1f-4a5c-b8ff-706c2d6e5cf7",
   "metadata": {},
   "outputs": [],
   "source": [
    "cust_acc_df = pd.read_excel(datafile_paths[0])\n",
    "cust_churn_df = pd.read_csv(datafile_paths[1])\n",
    "cust_demo_df = pd.read_excel(datafile_paths[2])\n",
    "cust_serv_df = pd.read_excel(datafile_paths[3])"
   ]
  },
  {
   "cell_type": "code",
   "execution_count": 50,
   "id": "a4eb9211-f30b-452d-bcd1-32da59be7d5b",
   "metadata": {},
   "outputs": [
    {
     "name": "stdout",
     "output_type": "stream",
     "text": [
      "<class 'pandas.core.frame.DataFrame'>\n",
      "RangeIndex: 34413 entries, 0 to 34412\n",
      "Data columns (total 7 columns):\n",
      " #   Column            Non-Null Count  Dtype  \n",
      "---  ------            --------------  -----  \n",
      " 0   customerID        34413 non-null  object \n",
      " 1   tenure            34397 non-null  float64\n",
      " 2   Contract          34406 non-null  object \n",
      " 3   PaperlessBilling  34380 non-null  object \n",
      " 4   PaymentMethod     34364 non-null  object \n",
      " 5   MonthlyCharges    34400 non-null  float64\n",
      " 6   TotalCharges      34403 non-null  object \n",
      "dtypes: float64(2), object(5)\n",
      "memory usage: 1.8+ MB\n"
     ]
    }
   ],
   "source": [
    "cust_acc_df.info()"
   ]
  },
  {
   "cell_type": "code",
   "execution_count": 52,
   "id": "6c97bec7-b396-47d0-878d-577b4fb9dc4d",
   "metadata": {},
   "outputs": [
    {
     "name": "stdout",
     "output_type": "stream",
     "text": [
      "<class 'pandas.core.frame.DataFrame'>\n",
      "RangeIndex: 34413 entries, 0 to 34412\n",
      "Data columns (total 2 columns):\n",
      " #   Column      Non-Null Count  Dtype \n",
      "---  ------      --------------  ----- \n",
      " 0   customerID  34413 non-null  object\n",
      " 1   Churn       34413 non-null  object\n",
      "dtypes: object(2)\n",
      "memory usage: 537.8+ KB\n"
     ]
    }
   ],
   "source": [
    "cust_churn_df.info()"
   ]
  },
  {
   "cell_type": "code",
   "execution_count": 54,
   "id": "f548ba7a-310a-48a8-b042-4782b809804a",
   "metadata": {},
   "outputs": [
    {
     "name": "stdout",
     "output_type": "stream",
     "text": [
      "<class 'pandas.core.frame.DataFrame'>\n",
      "RangeIndex: 34413 entries, 0 to 34412\n",
      "Data columns (total 5 columns):\n",
      " #   Column         Non-Null Count  Dtype  \n",
      "---  ------         --------------  -----  \n",
      " 0   customerID     34413 non-null  object \n",
      " 1   gender         34408 non-null  object \n",
      " 2   SeniorCitizen  34371 non-null  float64\n",
      " 3   Partner        34413 non-null  object \n",
      " 4   Dependents     34413 non-null  object \n",
      "dtypes: float64(1), object(4)\n",
      "memory usage: 1.3+ MB\n"
     ]
    }
   ],
   "source": [
    "cust_demo_df.info()"
   ]
  },
  {
   "cell_type": "code",
   "execution_count": 56,
   "id": "ef0f6736-3e6c-40fe-ba32-048fe2a67036",
   "metadata": {},
   "outputs": [
    {
     "name": "stdout",
     "output_type": "stream",
     "text": [
      "<class 'pandas.core.frame.DataFrame'>\n",
      "RangeIndex: 34413 entries, 0 to 34412\n",
      "Data columns (total 10 columns):\n",
      " #   Column            Non-Null Count  Dtype \n",
      "---  ------            --------------  ----- \n",
      " 0   customerID        34413 non-null  object\n",
      " 1   PhoneService      34401 non-null  object\n",
      " 2   MultipleLines     34413 non-null  object\n",
      " 3   InternetService   34413 non-null  object\n",
      " 4   OnlineSecurity    34376 non-null  object\n",
      " 5   OnlineBackup      34413 non-null  object\n",
      " 6   DeviceProtection  34413 non-null  object\n",
      " 7   TechSupport       34378 non-null  object\n",
      " 8   StreamingTV       34413 non-null  object\n",
      " 9   StreamingMovies   34413 non-null  object\n",
      "dtypes: object(10)\n",
      "memory usage: 2.6+ MB\n"
     ]
    }
   ],
   "source": [
    "cust_serv_df.info()"
   ]
  },
  {
   "cell_type": "markdown",
   "id": "37165014-fbc2-450d-9f14-ef7d10ef46d2",
   "metadata": {},
   "source": [
    "## Data cleaning"
   ]
  },
  {
   "cell_type": "markdown",
   "id": "606c8fcc-79f1-4cf3-99fe-acbffa130258",
   "metadata": {},
   "source": [
    "**Extracting integers from customerID values and replacing them**"
   ]
  },
  {
   "cell_type": "code",
   "execution_count": 108,
   "id": "8a139ce0-80fa-4615-b0cc-dfe479b791b2",
   "metadata": {
    "scrolled": true
   },
   "outputs": [
    {
     "name": "stdout",
     "output_type": "stream",
     "text": [
      "<class 'pandas.core.frame.DataFrame'>\n",
      "RangeIndex: 34413 entries, 0 to 34412\n",
      "Data columns (total 2 columns):\n",
      " #   Column      Non-Null Count  Dtype \n",
      "---  ------      --------------  ----- \n",
      " 0   customerID  34413 non-null  int64 \n",
      " 1   Churn       34413 non-null  object\n",
      "dtypes: int64(1), object(1)\n",
      "memory usage: 537.8+ KB\n"
     ]
    }
   ],
   "source": [
    "reg_exp_cid = r'\\d+'\n",
    "extracted_cids = cust_churn_df['customerID'].apply(lambda x: int(re.search(reg_exp_cid, x).group())).tolist()\n",
    "\n",
    "cust_churn_df['customerID'] = extracted_cids\n",
    "cust_acc_df['customerID'] = extracted_cids\n",
    "cust_demo_df['customerID'] = extracted_cids\n",
    "cust_serv_df['customerID'] = extracted_cids"
   ]
  },
  {
   "cell_type": "code",
   "execution_count": 159,
   "id": "a690fb21-b1ea-4693-8770-9f2ce00e0638",
   "metadata": {},
   "outputs": [],
   "source": [
    "cust_acc_df = cust_acc_df.rename(columns={'tenure':'Tenure'})\n",
    "cust_demo_df = cust_demo_df.rename(columns={'gender': 'Gender'})"
   ]
  },
  {
   "cell_type": "markdown",
   "id": "5b2a5834-e9a8-458f-9832-dfcd0547350b",
   "metadata": {},
   "source": [
    "### Exploring and Cleaning accounts dataframe"
   ]
  },
  {
   "cell_type": "code",
   "execution_count": 163,
   "id": "4e7c516e-a2ed-4d0c-b127-d2542e8b3493",
   "metadata": {},
   "outputs": [
    {
     "data": {
      "text/plain": [
       "Contract\n",
       "Month-to-month    19693\n",
       "Two year           9823\n",
       "One year           4890\n",
       "NaN                   7\n",
       "Name: count, dtype: int64"
      ]
     },
     "execution_count": 163,
     "metadata": {},
     "output_type": "execute_result"
    }
   ],
   "source": [
    "cust_acc_df['Contract'].value_counts(dropna=False)"
   ]
  },
  {
   "cell_type": "code",
   "execution_count": 165,
   "id": "5912927e-9f4c-4597-b426-c4775b3351de",
   "metadata": {},
   "outputs": [
    {
     "data": {
      "text/plain": [
       "PaperlessBilling\n",
       "Yes    21982\n",
       "No     12398\n",
       "NaN       33\n",
       "Name: count, dtype: int64"
      ]
     },
     "execution_count": 165,
     "metadata": {},
     "output_type": "execute_result"
    }
   ],
   "source": [
    "cust_acc_df['PaperlessBilling'].value_counts(dropna=False)"
   ]
  },
  {
   "cell_type": "code",
   "execution_count": 167,
   "id": "cc619dd1-5d14-4540-8a27-edde691e9eb4",
   "metadata": {},
   "outputs": [
    {
     "data": {
      "text/plain": [
       "PaymentMethod\n",
       "Mailed check                 10643\n",
       "Electronic check              9566\n",
       "Bank transfer (automatic)     8656\n",
       "Credit card (automatic)       5499\n",
       "NaN                             49\n",
       "Name: count, dtype: int64"
      ]
     },
     "execution_count": 167,
     "metadata": {},
     "output_type": "execute_result"
    }
   ],
   "source": [
    "cust_acc_df['PaymentMethod'].value_counts(dropna=False)"
   ]
  },
  {
   "cell_type": "code",
   "execution_count": 245,
   "id": "25e68066-1778-44e0-bea4-8faef76ff5b4",
   "metadata": {},
   "outputs": [
    {
     "data": {
      "text/plain": [
       "2020      \n",
       "4431      \n",
       "4518      \n",
       "14108     \n",
       "14358     \n",
       "15320     \n",
       "15539     \n",
       "23409     \n",
       "23684     \n",
       "24350     \n",
       "28679     \n",
       "30310     \n",
       "Name: TotalCharges, dtype: object"
      ]
     },
     "execution_count": 245,
     "metadata": {},
     "output_type": "execute_result"
    }
   ],
   "source": [
    "cust_acc_df.loc[~cust_acc_df['TotalCharges'].apply(lambda x: x.isdigit() if isinstance(x, str) else True), 'TotalCharges']"
   ]
  },
  {
   "cell_type": "markdown",
   "id": "cf7509b3-52b3-435e-b5a6-cad97991e875",
   "metadata": {},
   "source": [
    "TotalCharges column is of type object and have a few rows where the value is empty string. We can replace these with null values"
   ]
  },
  {
   "cell_type": "code",
   "execution_count": 263,
   "id": "f470aee5-1e5a-4d22-8218-c8b2efbbe040",
   "metadata": {},
   "outputs": [],
   "source": [
    "cust_acc_df.loc[~cust_acc_df['TotalCharges'].apply(lambda x: x.isdigit() if isinstance(x, str) else True), 'TotalCharges'] = np.nan\n",
    "cust_acc_df['TotalCharges'] = cust_acc_df['TotalCharges'].astype('float')"
   ]
  },
  {
   "cell_type": "code",
   "execution_count": 265,
   "id": "e777c80b-b81c-44ff-85bf-ca7339a4cf20",
   "metadata": {},
   "outputs": [
    {
     "data": {
      "text/html": [
       "<div>\n",
       "<style scoped>\n",
       "    .dataframe tbody tr th:only-of-type {\n",
       "        vertical-align: middle;\n",
       "    }\n",
       "\n",
       "    .dataframe tbody tr th {\n",
       "        vertical-align: top;\n",
       "    }\n",
       "\n",
       "    .dataframe thead th {\n",
       "        text-align: right;\n",
       "    }\n",
       "</style>\n",
       "<table border=\"1\" class=\"dataframe\">\n",
       "  <thead>\n",
       "    <tr style=\"text-align: right;\">\n",
       "      <th></th>\n",
       "      <th>customerID</th>\n",
       "      <th>Tenure</th>\n",
       "      <th>MonthlyCharges</th>\n",
       "      <th>TotalCharges</th>\n",
       "    </tr>\n",
       "  </thead>\n",
       "  <tbody>\n",
       "    <tr>\n",
       "      <th>count</th>\n",
       "      <td>34413.000000</td>\n",
       "      <td>34397.000000</td>\n",
       "      <td>34400.000000</td>\n",
       "      <td>34391.000000</td>\n",
       "    </tr>\n",
       "    <tr>\n",
       "      <th>mean</th>\n",
       "      <td>17207.000000</td>\n",
       "      <td>32.912812</td>\n",
       "      <td>65.049760</td>\n",
       "      <td>2493.521648</td>\n",
       "    </tr>\n",
       "    <tr>\n",
       "      <th>std</th>\n",
       "      <td>9934.321743</td>\n",
       "      <td>21.396691</td>\n",
       "      <td>27.496134</td>\n",
       "      <td>2417.484468</td>\n",
       "    </tr>\n",
       "    <tr>\n",
       "      <th>min</th>\n",
       "      <td>1.000000</td>\n",
       "      <td>0.000000</td>\n",
       "      <td>18.250000</td>\n",
       "      <td>18.800000</td>\n",
       "    </tr>\n",
       "    <tr>\n",
       "      <th>25%</th>\n",
       "      <td>8604.000000</td>\n",
       "      <td>16.000000</td>\n",
       "      <td>44.289520</td>\n",
       "      <td>428.700000</td>\n",
       "    </tr>\n",
       "    <tr>\n",
       "      <th>50%</th>\n",
       "      <td>17207.000000</td>\n",
       "      <td>32.000000</td>\n",
       "      <td>64.883350</td>\n",
       "      <td>1533.800000</td>\n",
       "    </tr>\n",
       "    <tr>\n",
       "      <th>75%</th>\n",
       "      <td>25810.000000</td>\n",
       "      <td>49.000000</td>\n",
       "      <td>84.930166</td>\n",
       "      <td>4284.650000</td>\n",
       "    </tr>\n",
       "    <tr>\n",
       "      <th>max</th>\n",
       "      <td>34413.000000</td>\n",
       "      <td>72.000000</td>\n",
       "      <td>118.750000</td>\n",
       "      <td>8684.800000</td>\n",
       "    </tr>\n",
       "  </tbody>\n",
       "</table>\n",
       "</div>"
      ],
      "text/plain": [
       "         customerID        Tenure  MonthlyCharges  TotalCharges\n",
       "count  34413.000000  34397.000000    34400.000000  34391.000000\n",
       "mean   17207.000000     32.912812       65.049760   2493.521648\n",
       "std     9934.321743     21.396691       27.496134   2417.484468\n",
       "min        1.000000      0.000000       18.250000     18.800000\n",
       "25%     8604.000000     16.000000       44.289520    428.700000\n",
       "50%    17207.000000     32.000000       64.883350   1533.800000\n",
       "75%    25810.000000     49.000000       84.930166   4284.650000\n",
       "max    34413.000000     72.000000      118.750000   8684.800000"
      ]
     },
     "execution_count": 265,
     "metadata": {},
     "output_type": "execute_result"
    }
   ],
   "source": [
    "cust_acc_df.describe()"
   ]
  },
  {
   "cell_type": "markdown",
   "id": "26a43823-b08f-4f3c-b7d4-c3be2c7d237c",
   "metadata": {},
   "source": [
    "Accounts table values look clean, except the null values"
   ]
  },
  {
   "cell_type": "markdown",
   "id": "31a7f751-7972-4718-bfeb-1004563994c6",
   "metadata": {},
   "source": [
    "### Exploring and cleaning demographics dataframe"
   ]
  },
  {
   "cell_type": "code",
   "execution_count": 283,
   "id": "458693c1-37b1-447b-a30c-2ee9afb2c3d8",
   "metadata": {},
   "outputs": [
    {
     "data": {
      "text/plain": [
       "['customerID', 'Gender', 'SeniorCitizen', 'Partner', 'Dependents']"
      ]
     },
     "execution_count": 283,
     "metadata": {},
     "output_type": "execute_result"
    }
   ],
   "source": [
    "cust_demo_df.columns.tolist()"
   ]
  },
  {
   "cell_type": "code",
   "execution_count": 281,
   "id": "bcd6385b-395a-495d-b84b-fa16eed06ced",
   "metadata": {},
   "outputs": [
    {
     "data": {
      "text/plain": [
       "Gender\n",
       "Male      17490\n",
       "Female    16918\n",
       "NaN           5\n",
       "Name: count, dtype: int64"
      ]
     },
     "execution_count": 281,
     "metadata": {},
     "output_type": "execute_result"
    }
   ],
   "source": [
    "cust_demo_df['Gender'].value_counts(dropna=False)"
   ]
  },
  {
   "cell_type": "code",
   "execution_count": 285,
   "id": "82c413e6-1885-4de0-a782-c28707379d79",
   "metadata": {},
   "outputs": [
    {
     "data": {
      "text/plain": [
       "SeniorCitizen\n",
       "0.0    28210\n",
       "1.0     6161\n",
       "NaN       42\n",
       "Name: count, dtype: int64"
      ]
     },
     "execution_count": 285,
     "metadata": {},
     "output_type": "execute_result"
    }
   ],
   "source": [
    "cust_demo_df['SeniorCitizen'].value_counts(dropna=False)"
   ]
  },
  {
   "cell_type": "code",
   "execution_count": 287,
   "id": "2e442666-cccf-471f-b76d-56b39ac72fdf",
   "metadata": {},
   "outputs": [
    {
     "data": {
      "text/plain": [
       "Partner\n",
       "No     17901\n",
       "Yes    16512\n",
       "Name: count, dtype: int64"
      ]
     },
     "execution_count": 287,
     "metadata": {},
     "output_type": "execute_result"
    }
   ],
   "source": [
    "cust_demo_df['Partner'].value_counts(dropna=False)"
   ]
  },
  {
   "cell_type": "code",
   "execution_count": 289,
   "id": "1eda1c7c-c0bb-4a38-b1e7-8eb78c8997fe",
   "metadata": {},
   "outputs": [
    {
     "data": {
      "text/plain": [
       "Dependents\n",
       "No     26995\n",
       "Yes     7418\n",
       "Name: count, dtype: int64"
      ]
     },
     "execution_count": 289,
     "metadata": {},
     "output_type": "execute_result"
    }
   ],
   "source": [
    "cust_demo_df['Dependents'].value_counts(dropna=False)"
   ]
  },
  {
   "cell_type": "markdown",
   "id": "f8d75b08-b085-4dde-88cd-ccf1c46a3ec4",
   "metadata": {},
   "source": [
    "### Exploring and cleaning servies table"
   ]
  },
  {
   "cell_type": "code",
   "execution_count": 294,
   "id": "858fa6e3-8be0-4ef0-a7c7-9b916dfb9fb1",
   "metadata": {},
   "outputs": [
    {
     "data": {
      "text/plain": [
       "['customerID',\n",
       " 'PhoneService',\n",
       " 'MultipleLines',\n",
       " 'InternetService',\n",
       " 'OnlineSecurity',\n",
       " 'OnlineBackup',\n",
       " 'DeviceProtection',\n",
       " 'TechSupport',\n",
       " 'StreamingTV',\n",
       " 'StreamingMovies']"
      ]
     },
     "execution_count": 294,
     "metadata": {},
     "output_type": "execute_result"
    }
   ],
   "source": [
    "cust_serv_df.columns.tolist()"
   ]
  },
  {
   "cell_type": "code",
   "execution_count": 298,
   "id": "ba1d642d-0101-4eb6-82ab-334b8bbe716c",
   "metadata": {},
   "outputs": [
    {
     "name": "stdout",
     "output_type": "stream",
     "text": [
      "PhoneService\n",
      "Yes    33520\n",
      "No       881\n",
      "NaN       12\n",
      "Name: count, dtype: int64\n",
      "++++++++++++++++++++++++++++++++\n",
      "MultipleLines\n",
      "No                  16150\n",
      "Yes                 15931\n",
      "No phone service     2332\n",
      "Name: count, dtype: int64\n",
      "++++++++++++++++++++++++++++++++\n",
      "InternetService\n",
      "DSL            15006\n",
      "Fiber optic    14181\n",
      "No              5226\n",
      "Name: count, dtype: int64\n",
      "++++++++++++++++++++++++++++++++\n",
      "OnlineSecurity\n",
      "No                     16890\n",
      "Yes                    12216\n",
      "No internet service     5270\n",
      "NaN                       37\n",
      "Name: count, dtype: int64\n",
      "++++++++++++++++++++++++++++++++\n",
      "OnlineBackup\n",
      "Yes                    15080\n",
      "No                     14064\n",
      "No internet service     5269\n",
      "Name: count, dtype: int64\n",
      "++++++++++++++++++++++++++++++++\n",
      "DeviceProtection\n",
      "Yes                    15037\n",
      "No                     14047\n",
      "No internet service     5329\n",
      "Name: count, dtype: int64\n",
      "++++++++++++++++++++++++++++++++\n",
      "TechSupport\n",
      "No                     16860\n",
      "Yes                    12341\n",
      "No internet service     5177\n",
      "NaN                       35\n",
      "Name: count, dtype: int64\n",
      "++++++++++++++++++++++++++++++++\n",
      "StreamingTV\n",
      "Yes                    16832\n",
      "No                     12272\n",
      "No internet service     5309\n",
      "Name: count, dtype: int64\n",
      "++++++++++++++++++++++++++++++++\n",
      "StreamingMovies\n",
      "Yes                    17138\n",
      "No                     11967\n",
      "No internet service     5308\n",
      "Name: count, dtype: int64\n",
      "++++++++++++++++++++++++++++++++\n"
     ]
    }
   ],
   "source": [
    "for col in cust_serv_df.columns:\n",
    "    if col == 'customerID':\n",
    "        continue\n",
    "    print(cust_serv_df[col].value_counts(dropna=False))\n",
    "    print(\"++++++++++++++++++++++++++++++++\")"
   ]
  },
  {
   "cell_type": "markdown",
   "id": "32fc1006-dc97-4f44-82fc-2ebc8ce758e9",
   "metadata": {},
   "source": [
    "## Merging all the dataframes together for EDA"
   ]
  },
  {
   "cell_type": "code",
   "execution_count": 392,
   "id": "ee7c6b31-344c-4658-aedb-5f4a08e7c6a9",
   "metadata": {},
   "outputs": [],
   "source": [
    "temp_df = pd.merge(cust_acc_df, cust_churn_df, on='customerID')\n",
    "temp_df = pd.merge(temp_df, cust_demo_df, on='customerID')\n",
    "combined_df = pd.merge(temp_df, cust_serv_df, on='customerID')\n",
    "\n",
    "del temp_df\n",
    "_ = gc.collect()"
   ]
  },
  {
   "cell_type": "code",
   "execution_count": 394,
   "id": "6ffcb848-879b-4e36-8eae-954da9c648c2",
   "metadata": {},
   "outputs": [
    {
     "data": {
      "text/html": [
       "<div>\n",
       "<style scoped>\n",
       "    .dataframe tbody tr th:only-of-type {\n",
       "        vertical-align: middle;\n",
       "    }\n",
       "\n",
       "    .dataframe tbody tr th {\n",
       "        vertical-align: top;\n",
       "    }\n",
       "\n",
       "    .dataframe thead th {\n",
       "        text-align: right;\n",
       "    }\n",
       "</style>\n",
       "<table border=\"1\" class=\"dataframe\">\n",
       "  <thead>\n",
       "    <tr style=\"text-align: right;\">\n",
       "      <th></th>\n",
       "      <th>customerID</th>\n",
       "      <th>Tenure</th>\n",
       "      <th>Contract</th>\n",
       "      <th>PaperlessBilling</th>\n",
       "      <th>PaymentMethod</th>\n",
       "      <th>MonthlyCharges</th>\n",
       "      <th>TotalCharges</th>\n",
       "      <th>Churn</th>\n",
       "      <th>Gender</th>\n",
       "      <th>SeniorCitizen</th>\n",
       "      <th>Partner</th>\n",
       "      <th>Dependents</th>\n",
       "      <th>PhoneService</th>\n",
       "      <th>MultipleLines</th>\n",
       "      <th>InternetService</th>\n",
       "      <th>OnlineSecurity</th>\n",
       "      <th>OnlineBackup</th>\n",
       "      <th>DeviceProtection</th>\n",
       "      <th>TechSupport</th>\n",
       "      <th>StreamingTV</th>\n",
       "      <th>StreamingMovies</th>\n",
       "    </tr>\n",
       "  </thead>\n",
       "  <tbody>\n",
       "    <tr>\n",
       "      <th>0</th>\n",
       "      <td>1</td>\n",
       "      <td>42.0</td>\n",
       "      <td>Month-to-month</td>\n",
       "      <td>Yes</td>\n",
       "      <td>Electronic check</td>\n",
       "      <td>79.854582</td>\n",
       "      <td>1059.55</td>\n",
       "      <td>Yes</td>\n",
       "      <td>Male</td>\n",
       "      <td>0.0</td>\n",
       "      <td>Yes</td>\n",
       "      <td>No</td>\n",
       "      <td>Yes</td>\n",
       "      <td>No phone service</td>\n",
       "      <td>Fiber optic</td>\n",
       "      <td>No</td>\n",
       "      <td>No</td>\n",
       "      <td>No</td>\n",
       "      <td>No</td>\n",
       "      <td>No</td>\n",
       "      <td>No</td>\n",
       "    </tr>\n",
       "    <tr>\n",
       "      <th>1</th>\n",
       "      <td>2</td>\n",
       "      <td>32.0</td>\n",
       "      <td>Month-to-month</td>\n",
       "      <td>Yes</td>\n",
       "      <td>Electronic check</td>\n",
       "      <td>76.845120</td>\n",
       "      <td>669.45</td>\n",
       "      <td>No</td>\n",
       "      <td>Female</td>\n",
       "      <td>0.0</td>\n",
       "      <td>Yes</td>\n",
       "      <td>Yes</td>\n",
       "      <td>Yes</td>\n",
       "      <td>No</td>\n",
       "      <td>Fiber optic</td>\n",
       "      <td>No internet service</td>\n",
       "      <td>Yes</td>\n",
       "      <td>Yes</td>\n",
       "      <td>Yes</td>\n",
       "      <td>No internet service</td>\n",
       "      <td>Yes</td>\n",
       "    </tr>\n",
       "    <tr>\n",
       "      <th>2</th>\n",
       "      <td>3</td>\n",
       "      <td>0.0</td>\n",
       "      <td>Month-to-month</td>\n",
       "      <td>No</td>\n",
       "      <td>Electronic check</td>\n",
       "      <td>55.614150</td>\n",
       "      <td>3791.60</td>\n",
       "      <td>No</td>\n",
       "      <td>Female</td>\n",
       "      <td>0.0</td>\n",
       "      <td>No</td>\n",
       "      <td>No</td>\n",
       "      <td>Yes</td>\n",
       "      <td>No</td>\n",
       "      <td>DSL</td>\n",
       "      <td>Yes</td>\n",
       "      <td>Yes</td>\n",
       "      <td>No</td>\n",
       "      <td>No</td>\n",
       "      <td>No</td>\n",
       "      <td>Yes</td>\n",
       "    </tr>\n",
       "    <tr>\n",
       "      <th>3</th>\n",
       "      <td>4</td>\n",
       "      <td>72.0</td>\n",
       "      <td>Two year</td>\n",
       "      <td>Yes</td>\n",
       "      <td>Credit card (automatic)</td>\n",
       "      <td>108.491169</td>\n",
       "      <td>6470.10</td>\n",
       "      <td>No</td>\n",
       "      <td>Female</td>\n",
       "      <td>1.0</td>\n",
       "      <td>No</td>\n",
       "      <td>No</td>\n",
       "      <td>Yes</td>\n",
       "      <td>Yes</td>\n",
       "      <td>Fiber optic</td>\n",
       "      <td>No</td>\n",
       "      <td>Yes</td>\n",
       "      <td>No internet service</td>\n",
       "      <td>Yes</td>\n",
       "      <td>Yes</td>\n",
       "      <td>Yes</td>\n",
       "    </tr>\n",
       "    <tr>\n",
       "      <th>4</th>\n",
       "      <td>5</td>\n",
       "      <td>38.0</td>\n",
       "      <td>Month-to-month</td>\n",
       "      <td>Yes</td>\n",
       "      <td>Bank transfer (automatic)</td>\n",
       "      <td>NaN</td>\n",
       "      <td>1496.90</td>\n",
       "      <td>No</td>\n",
       "      <td>Male</td>\n",
       "      <td>1.0</td>\n",
       "      <td>No</td>\n",
       "      <td>No</td>\n",
       "      <td>Yes</td>\n",
       "      <td>Yes</td>\n",
       "      <td>Fiber optic</td>\n",
       "      <td>No</td>\n",
       "      <td>No</td>\n",
       "      <td>No</td>\n",
       "      <td>No</td>\n",
       "      <td>No</td>\n",
       "      <td>No</td>\n",
       "    </tr>\n",
       "  </tbody>\n",
       "</table>\n",
       "</div>"
      ],
      "text/plain": [
       "   customerID  Tenure        Contract PaperlessBilling  \\\n",
       "0           1    42.0  Month-to-month              Yes   \n",
       "1           2    32.0  Month-to-month              Yes   \n",
       "2           3     0.0  Month-to-month               No   \n",
       "3           4    72.0        Two year              Yes   \n",
       "4           5    38.0  Month-to-month              Yes   \n",
       "\n",
       "               PaymentMethod  MonthlyCharges  TotalCharges Churn  Gender  \\\n",
       "0           Electronic check       79.854582       1059.55   Yes    Male   \n",
       "1           Electronic check       76.845120        669.45    No  Female   \n",
       "2           Electronic check       55.614150       3791.60    No  Female   \n",
       "3    Credit card (automatic)      108.491169       6470.10    No  Female   \n",
       "4  Bank transfer (automatic)             NaN       1496.90    No    Male   \n",
       "\n",
       "   SeniorCitizen Partner Dependents PhoneService     MultipleLines  \\\n",
       "0            0.0     Yes         No          Yes  No phone service   \n",
       "1            0.0     Yes        Yes          Yes                No   \n",
       "2            0.0      No         No          Yes                No   \n",
       "3            1.0      No         No          Yes               Yes   \n",
       "4            1.0      No         No          Yes               Yes   \n",
       "\n",
       "  InternetService       OnlineSecurity OnlineBackup     DeviceProtection  \\\n",
       "0     Fiber optic                   No           No                   No   \n",
       "1     Fiber optic  No internet service          Yes                  Yes   \n",
       "2             DSL                  Yes          Yes                   No   \n",
       "3     Fiber optic                   No          Yes  No internet service   \n",
       "4     Fiber optic                   No           No                   No   \n",
       "\n",
       "  TechSupport          StreamingTV StreamingMovies  \n",
       "0          No                   No              No  \n",
       "1         Yes  No internet service             Yes  \n",
       "2          No                   No             Yes  \n",
       "3         Yes                  Yes             Yes  \n",
       "4          No                   No              No  "
      ]
     },
     "execution_count": 394,
     "metadata": {},
     "output_type": "execute_result"
    }
   ],
   "source": [
    "combined_df.head()"
   ]
  },
  {
   "cell_type": "markdown",
   "id": "bc53bf4b-085f-4435-b50f-13255bec7e2b",
   "metadata": {},
   "source": [
    "## EDA"
   ]
  },
  {
   "cell_type": "code",
   "execution_count": 446,
   "id": "733576bf-bc55-4ad3-873c-902fd7b0ba93",
   "metadata": {},
   "outputs": [
    {
     "data": {
      "text/plain": [
       "Churn\n",
       "No     0.83\n",
       "Yes    0.17\n",
       "Name: proportion, dtype: float64"
      ]
     },
     "execution_count": 446,
     "metadata": {},
     "output_type": "execute_result"
    }
   ],
   "source": [
    "np.round(cust_churn_df['Churn'].value_counts(normalize=True, dropna=False), 2)"
   ]
  },
  {
   "cell_type": "markdown",
   "id": "7f8e5ae8-31c3-40ba-9bae-edf23e9fc66f",
   "metadata": {},
   "source": [
    "**17%** of customers have stopped using the services"
   ]
  },
  {
   "cell_type": "code",
   "execution_count": 327,
   "id": "d9ee4683-5e79-4efd-88e5-d5a4d32f695a",
   "metadata": {},
   "outputs": [
    {
     "data": {
      "text/plain": [
       "['customerID',\n",
       " 'Tenure',\n",
       " 'Contract',\n",
       " 'PaperlessBilling',\n",
       " 'PaymentMethod',\n",
       " 'MonthlyCharges',\n",
       " 'TotalCharges']"
      ]
     },
     "execution_count": 327,
     "metadata": {},
     "output_type": "execute_result"
    }
   ],
   "source": [
    "cust_acc_df.columns.tolist()"
   ]
  },
  {
   "cell_type": "markdown",
   "id": "01df5be2-22d6-4a56-b2a7-84cbd3fcbdc9",
   "metadata": {},
   "source": [
    "#### Tenure"
   ]
  },
  {
   "cell_type": "code",
   "execution_count": 473,
   "id": "49ff1dd8-c862-4053-ba72-19849277f688",
   "metadata": {},
   "outputs": [
    {
     "data": {
      "image/png": "[encoded data removed]",
      "text/plain": [
       "<Figure size 640x480 with 1 Axes>"
      ]
     },
     "metadata": {},
     "output_type": "display_data"
    }
   ],
   "source": [
    "tenure_plot = sns.histplot(data=combined_df, x='Tenure')\n",
    "tenure_plot.set_title('Distribution of Tenure')\n",
    "plt.show()"
   ]
  },
  {
   "cell_type": "code",
   "execution_count": 465,
   "id": "9589afe8-781d-435f-a1b6-51f50b88566f",
   "metadata": {},
   "outputs": [
    {
     "data": {
      "image/png": "[encoded data removed]",
      "text/plain": [
       "<Figure size 572.125x500 with 1 Axes>"
      ]
     },
     "metadata": {},
     "output_type": "display_data"
    }
   ],
   "source": [
    "tenure_churn_plot = sns.catplot(kind='violin', data=combined_df, hue='Churn', y='Tenure')\n",
    "tenure_churn_plot.ax.set_title('Distribution of Tenure w.r.t Churn')\n",
    "plt.show()"
   ]
  },
  {
   "cell_type": "code",
   "execution_count": 483,
   "id": "9e80f87b-73c8-4254-82ae-7d08ca03ef6c",
   "metadata": {},
   "outputs": [
    {
     "data": {
      "text/plain": [
       "Churn\n",
       "No     34.831\n",
       "Yes    23.434\n",
       "Name: Average Tenure of customer w.r.t churn, dtype: float64"
      ]
     },
     "execution_count": 483,
     "metadata": {},
     "output_type": "execute_result"
    }
   ],
   "source": [
    "avg_tenure_wrt_churn = combined_df.groupby('Churn')['Tenure'].apply(lambda x: round(x.mean(), 3))\n",
    "avg_tenure_wrt_churn.name = 'Average Tenure of customer w.r.t churn'\n",
    "avg_tenure_wrt_churn"
   ]
  },
  {
   "cell_type": "markdown",
   "id": "5c00d0b1-ddd1-41cb-9b3d-c0b1b8132031",
   "metadata": {},
   "source": [
    "- Tenure has two pretty evident peaks at both extremes of 0 and 72.\n",
    "- Apart from these peaks the rest of the population follows a normal like distribution.\n",
    "- The tenure for customers who have churned is lower (**23.4 months**) as compared to those who stayed (**34.8 months**).\n",
    "\n",
    "- **So, customers with greater Tenure are less likely to discontinue using the services of the telecom company.**"
   ]
  },
  {
   "cell_type": "markdown",
   "id": "18a52697-4315-474a-92cf-79a53b2abaff",
   "metadata": {},
   "source": [
    "#### Monthly Charges"
   ]
  },
  {
   "cell_type": "code",
   "execution_count": 490,
   "id": "a03e0a8a-f1d8-4f65-9403-c98fd8cac65f",
   "metadata": {},
   "outputs": [
    {
     "data": {
      "image/png": "[encoded data removed]",
      "text/plain": [
       "<Figure size 640x480 with 1 Axes>"
      ]
     },
     "metadata": {},
     "output_type": "display_data"
    }
   ],
   "source": [
    "mon_charge_plot = sns.histplot(data=combined_df, x='MonthlyCharges')\n",
    "mon_charge_plot.set_title('Distribution of monthly charges.')\n",
    "plt.show()"
   ]
  },
  {
   "cell_type": "code",
   "execution_count": 492,
   "id": "a7a45bc4-cd62-4cb2-9d57-6bfccc7a2151",
   "metadata": {},
   "outputs": [
    {
     "data": {
      "image/png": "[encoded data removed]",
      "text/plain": [
       "<Figure size 572.125x500 with 1 Axes>"
      ]
     },
     "metadata": {},
     "output_type": "display_data"
    }
   ],
   "source": [
    "mon_charge_churn_plot = sns.catplot(kind='violin', data=combined_df, hue='Churn', y='MonthlyCharges')\n",
    "mon_charge_churn_plot.ax.set_title('Distribution of monthly charges w.r.t Churn')\n",
    "plt.show()"
   ]
  },
  {
   "cell_type": "code",
   "execution_count": 522,
   "id": "a34d841d-2564-4bc4-b79b-88837fca3a73",
   "metadata": {},
   "outputs": [
    {
     "name": "stderr",
     "output_type": "stream",
     "text": [
      "C:\\Users\\shreyanlnu\\AppData\\Local\\Temp\\ipykernel_13808\\2798219811.py:1: FutureWarning: The provided callable <function mean at 0x000001FA7362CF40> is currently using SeriesGroupBy.mean. In a future version of pandas, the provided callable will be used directly. To keep current behavior pass the string \"mean\" instead.\n",
      "  avg_mon_charge_wrt_churn = combined_df.groupby('Churn')['MonthlyCharges'].agg([np.mean, lambda x: sp.stats.skew(x, nan_policy='omit')])\n"
     ]
    },
    {
     "data": {
      "text/html": [
       "<div>\n",
       "<style scoped>\n",
       "    .dataframe tbody tr th:only-of-type {\n",
       "        vertical-align: middle;\n",
       "    }\n",
       "\n",
       "    .dataframe tbody tr th {\n",
       "        vertical-align: top;\n",
       "    }\n",
       "\n",
       "    .dataframe thead th {\n",
       "        text-align: right;\n",
       "    }\n",
       "</style>\n",
       "<table border=\"1\" class=\"dataframe\">\n",
       "  <thead>\n",
       "    <tr style=\"text-align: right;\">\n",
       "      <th></th>\n",
       "      <th>mean</th>\n",
       "      <th>skew</th>\n",
       "    </tr>\n",
       "    <tr>\n",
       "      <th>Churn</th>\n",
       "      <th></th>\n",
       "      <th></th>\n",
       "    </tr>\n",
       "  </thead>\n",
       "  <tbody>\n",
       "    <tr>\n",
       "      <th>No</th>\n",
       "      <td>63.500843</td>\n",
       "      <td>0.131798</td>\n",
       "    </tr>\n",
       "    <tr>\n",
       "      <th>Yes</th>\n",
       "      <td>72.709750</td>\n",
       "      <td>-0.126569</td>\n",
       "    </tr>\n",
       "  </tbody>\n",
       "</table>\n",
       "</div>"
      ],
      "text/plain": [
       "            mean      skew\n",
       "Churn                     \n",
       "No     63.500843  0.131798\n",
       "Yes    72.709750 -0.126569"
      ]
     },
     "execution_count": 522,
     "metadata": {},
     "output_type": "execute_result"
    }
   ],
   "source": [
    "avg_mon_charge_wrt_churn = combined_df.groupby('Churn')['MonthlyCharges'].agg([np.mean, lambda x: sp.stats.skew(x, nan_policy='omit')])\n",
    "avg_mon_charge_wrt_churn.name = \"Averge monthly charges w.r.t churn\"\n",
    "avg_mon_charge_wrt_churn.columns = ['mean', 'skew']\n",
    "avg_mon_charge_wrt_churn"
   ]
  },
  {
   "cell_type": "markdown",
   "id": "7e8e8cc7-71c8-4221-a382-f79fe5dcab2b",
   "metadata": {},
   "source": [
    "- Peaks at extreme values, with max value being less than 120 and min being around 18.\n",
    "- Average monthly charge of customers who've churned is higher (**72.7**) than those who didn't (**63.5**).\n",
    "- Distribution of Monthly charges is skewed towards right for customers who didn't churn and left skewed for those who churned.\n",
    "- **So, greater monthly charges lead to customers to be more likely to be churned.**"
   ]
  },
  {
   "cell_type": "markdown",
   "id": "08835078-a4aa-4cbb-a80f-71fc9578fccf",
   "metadata": {},
   "source": [
    "#### Total Charges"
   ]
  },
  {
   "cell_type": "code",
   "execution_count": 527,
   "id": "8b539d9a-04b7-459c-86fd-fcb3ef2d9505",
   "metadata": {},
   "outputs": [
    {
     "data": {
      "image/png": "[encoded data removed]",
      "text/plain": [
       "<Figure size 640x480 with 1 Axes>"
      ]
     },
     "metadata": {},
     "output_type": "display_data"
    }
   ],
   "source": [
    "tot_charge_plot = sns.histplot(data=combined_df, x='TotalCharges')\n",
    "tot_charge_plot.set_title('Distribution of total charges.')\n",
    "plt.show()"
   ]
  },
  {
   "cell_type": "markdown",
   "id": "57f067c4-f226-4937-b8ef-1dff46a7dfe1",
   "metadata": {},
   "source": [
    "## Writing dataframe"
   ]
  },
  {
   "cell_type": "code",
   "execution_count": 304,
   "id": "3d6657f4-1ea8-4431-a3ac-90cdaf7d9c49",
   "metadata": {},
   "outputs": [],
   "source": [
    "output_folder_path = os.path.abspath(\"dev/Deloitte_capstone_project/Output_telecomData\")"
   ]
  },
  {
   "cell_type": "code",
   "execution_count": 316,
   "id": "66c418fa-b144-4ecb-ac94-557697796499",
   "metadata": {},
   "outputs": [
    {
     "name": "stdout",
     "output_type": "stream",
     "text": [
      "['C:\\\\Users\\\\shreyanlnu\\\\dev\\\\Deloitte_capstone_project\\\\Output_telecomData\\\\WithNaNs\\\\Customer_account_info.xlsx', 'C:\\\\Users\\\\shreyanlnu\\\\dev\\\\Deloitte_capstone_project\\\\Output_telecomData\\\\WithNaNs\\\\Customer_Churn.csv', 'C:\\\\Users\\\\shreyanlnu\\\\dev\\\\Deloitte_capstone_project\\\\Output_telecomData\\\\WithNaNs\\\\Customer_demographics.xlsx', 'C:\\\\Users\\\\shreyanlnu\\\\dev\\\\Deloitte_capstone_project\\\\Output_telecomData\\\\WithNaNs\\\\Customer_services.xlsx']\n"
     ]
    }
   ],
   "source": [
    "inner_output_folder_name = \"WithNaNs\"\n",
    "inner_output_folder_path = os.path.join(output_folder_path, inner_output_folder_name)\n",
    "\n",
    "if not os.path.exists(inner_output_folder_path):\n",
    "    os.makedirs(inner_output_folder_path)\n",
    "\n",
    "output_file_paths = [os.path.join(inner_output_folder_path, output_filename) for output_filename in datafile_names]\n",
    "print(output_file_paths)"
   ]
  },
  {
   "cell_type": "code",
   "execution_count": 318,
   "id": "bfb00eec-c6b7-416f-b9d2-5cb507b7b426",
   "metadata": {},
   "outputs": [],
   "source": [
    "cust_acc_df.to_csv(output_file_paths[0])\n",
    "cust_churn_df.to_csv(output_file_paths[1])\n",
    "cust_demo_df.to_csv(output_file_paths[2])\n",
    "cust_serv_df.to_csv(output_file_paths[3])"
   ]
  },
  {
   "cell_type": "code",
   "execution_count": null,
   "id": "5f952efd-49f2-4441-87aa-20202bf8657f",
   "metadata": {},
   "outputs": [],
   "source": []
  }
 ],
 "metadata": {
  "kernelspec": {
   "display_name": "Python 3 (ipykernel)",
   "language": "python",
   "name": "python3"
  },
  "language_info": {
   "codemirror_mode": {
    "name": "ipython",
    "version": 3
   },
   "file_extension": ".py",
   "mimetype": "text/x-python",
   "name": "python",
   "nbconvert_exporter": "python",
   "pygments_lexer": "ipython3",
   "version": "3.12.4"
  }
 },
 "nbformat": 4,
 "nbformat_minor": 5
}
