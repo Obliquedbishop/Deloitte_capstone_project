{
 "cells": [
  {
   "cell_type": "markdown",
   "id": "942c9494-4b42-418e-be2d-b3630ca5b29d",
   "metadata": {},
   "source": [
    "Here are some indicative types of analysis you can perform. Please note that this is not an exhaustive list, you may add more. \tCome up with appropriate results  for the followin- \\\n",
    "o\tIs there any relation between contract duration, charges and the customer chur \\n\n",
    "o\tIs the dataset balanc \\e\r\n",
    "o\tIdentify the relationship between the services offered and the churn r \\a.\r\n",
    "o\tDemographic analysis of the customers.\r\n"
   ]
  },
  {
   "cell_type": "code",
   "execution_count": 86,
   "id": "d7d93762-ce0d-4414-9a17-a7630523ce5f",
   "metadata": {},
   "outputs": [],
   "source": [
    "import pandas as pd\n",
    "import numpy as np\n",
    "import matplotlib.pyplot as plt\n",
    "import os\n",
    "import re\n",
    "\n",
    "pd.set_option('display.max_columns', None)"
   ]
  },
  {
   "cell_type": "markdown",
   "id": "13c18ba8-51a2-4502-81d2-fe316161fc2b",
   "metadata": {},
   "source": [
    "## Data Loading"
   ]
  },
  {
   "cell_type": "code",
   "execution_count": 13,
   "id": "0edee2c2-7df9-428b-8a8d-af1a11d5730e",
   "metadata": {
    "scrolled": true
   },
   "outputs": [
    {
     "data": {
      "text/plain": [
       "'C:\\\\Users\\\\shreyanlnu\\\\dev\\\\Deloitte_capstone_project\\\\TelecomData'"
      ]
     },
     "execution_count": 13,
     "metadata": {},
     "output_type": "execute_result"
    }
   ],
   "source": [
    "data_dir_path = os.path.abspath('dev/Deloitte_capstone_project/TelecomData')\n",
    "data_dir_path"
   ]
  },
  {
   "cell_type": "code",
   "execution_count": 314,
   "id": "51c48139-3cab-4f2b-9482-13b81133808e",
   "metadata": {},
   "outputs": [
    {
     "data": {
      "text/plain": [
       "['C:\\\\Users\\\\shreyanlnu\\\\dev\\\\Deloitte_capstone_project\\\\TelecomData\\\\Customer_account_info.xlsx',\n",
       " 'C:\\\\Users\\\\shreyanlnu\\\\dev\\\\Deloitte_capstone_project\\\\TelecomData\\\\Customer_Churn.csv',\n",
       " 'C:\\\\Users\\\\shreyanlnu\\\\dev\\\\Deloitte_capstone_project\\\\TelecomData\\\\Customer_demographics.xlsx',\n",
       " 'C:\\\\Users\\\\shreyanlnu\\\\dev\\\\Deloitte_capstone_project\\\\TelecomData\\\\Customer_services.xlsx']"
      ]
     },
     "execution_count": 314,
     "metadata": {},
     "output_type": "execute_result"
    }
   ],
   "source": [
    "datafile_names = os.listdir(data_dir_path)\n",
    "datafile_paths = [os.path.join(data_dir_path, datafile) for datafile in datafile_names]\n",
    "\n",
    "datafile_paths"
   ]
  },
  {
   "cell_type": "code",
   "execution_count": 42,
   "id": "2cfb25bc-0e1f-4a5c-b8ff-706c2d6e5cf7",
   "metadata": {},
   "outputs": [],
   "source": [
    "cust_acc_df = pd.read_excel(datafile_paths[0])\n",
    "cust_churn_df = pd.read_csv(datafile_paths[1])\n",
    "cust_demo_df = pd.read_excel(datafile_paths[2])\n",
    "cust_serv_df = pd.read_excel(datafile_paths[3])"
   ]
  },
  {
   "cell_type": "code",
   "execution_count": 50,
   "id": "a4eb9211-f30b-452d-bcd1-32da59be7d5b",
   "metadata": {},
   "outputs": [
    {
     "name": "stdout",
     "output_type": "stream",
     "text": [
      "<class 'pandas.core.frame.DataFrame'>\n",
      "RangeIndex: 34413 entries, 0 to 34412\n",
      "Data columns (total 7 columns):\n",
      " #   Column            Non-Null Count  Dtype  \n",
      "---  ------            --------------  -----  \n",
      " 0   customerID        34413 non-null  object \n",
      " 1   tenure            34397 non-null  float64\n",
      " 2   Contract          34406 non-null  object \n",
      " 3   PaperlessBilling  34380 non-null  object \n",
      " 4   PaymentMethod     34364 non-null  object \n",
      " 5   MonthlyCharges    34400 non-null  float64\n",
      " 6   TotalCharges      34403 non-null  object \n",
      "dtypes: float64(2), object(5)\n",
      "memory usage: 1.8+ MB\n"
     ]
    }
   ],
   "source": [
    "cust_acc_df.info()"
   ]
  },
  {
   "cell_type": "code",
   "execution_count": 52,
   "id": "6c97bec7-b396-47d0-878d-577b4fb9dc4d",
   "metadata": {},
   "outputs": [
    {
     "name": "stdout",
     "output_type": "stream",
     "text": [
      "<class 'pandas.core.frame.DataFrame'>\n",
      "RangeIndex: 34413 entries, 0 to 34412\n",
      "Data columns (total 2 columns):\n",
      " #   Column      Non-Null Count  Dtype \n",
      "---  ------      --------------  ----- \n",
      " 0   customerID  34413 non-null  object\n",
      " 1   Churn       34413 non-null  object\n",
      "dtypes: object(2)\n",
      "memory usage: 537.8+ KB\n"
     ]
    }
   ],
   "source": [
    "cust_churn_df.info()"
   ]
  },
  {
   "cell_type": "code",
   "execution_count": 54,
   "id": "f548ba7a-310a-48a8-b042-4782b809804a",
   "metadata": {},
   "outputs": [
    {
     "name": "stdout",
     "output_type": "stream",
     "text": [
      "<class 'pandas.core.frame.DataFrame'>\n",
      "RangeIndex: 34413 entries, 0 to 34412\n",
      "Data columns (total 5 columns):\n",
      " #   Column         Non-Null Count  Dtype  \n",
      "---  ------         --------------  -----  \n",
      " 0   customerID     34413 non-null  object \n",
      " 1   gender         34408 non-null  object \n",
      " 2   SeniorCitizen  34371 non-null  float64\n",
      " 3   Partner        34413 non-null  object \n",
      " 4   Dependents     34413 non-null  object \n",
      "dtypes: float64(1), object(4)\n",
      "memory usage: 1.3+ MB\n"
     ]
    }
   ],
   "source": [
    "cust_demo_df.info()"
   ]
  },
  {
   "cell_type": "code",
   "execution_count": 56,
   "id": "ef0f6736-3e6c-40fe-ba32-048fe2a67036",
   "metadata": {},
   "outputs": [
    {
     "name": "stdout",
     "output_type": "stream",
     "text": [
      "<class 'pandas.core.frame.DataFrame'>\n",
      "RangeIndex: 34413 entries, 0 to 34412\n",
      "Data columns (total 10 columns):\n",
      " #   Column            Non-Null Count  Dtype \n",
      "---  ------            --------------  ----- \n",
      " 0   customerID        34413 non-null  object\n",
      " 1   PhoneService      34401 non-null  object\n",
      " 2   MultipleLines     34413 non-null  object\n",
      " 3   InternetService   34413 non-null  object\n",
      " 4   OnlineSecurity    34376 non-null  object\n",
      " 5   OnlineBackup      34413 non-null  object\n",
      " 6   DeviceProtection  34413 non-null  object\n",
      " 7   TechSupport       34378 non-null  object\n",
      " 8   StreamingTV       34413 non-null  object\n",
      " 9   StreamingMovies   34413 non-null  object\n",
      "dtypes: object(10)\n",
      "memory usage: 2.6+ MB\n"
     ]
    }
   ],
   "source": [
    "cust_serv_df.info()"
   ]
  },
  {
   "cell_type": "markdown",
   "id": "37165014-fbc2-450d-9f14-ef7d10ef46d2",
   "metadata": {},
   "source": [
    "## Data cleaning"
   ]
  },
  {
   "cell_type": "markdown",
   "id": "606c8fcc-79f1-4cf3-99fe-acbffa130258",
   "metadata": {},
   "source": [
    "**Extracting integers from customerID values and replacing them**"
   ]
  },
  {
   "cell_type": "code",
   "execution_count": 108,
   "id": "8a139ce0-80fa-4615-b0cc-dfe479b791b2",
   "metadata": {
    "scrolled": true
   },
   "outputs": [
    {
     "name": "stdout",
     "output_type": "stream",
     "text": [
      "<class 'pandas.core.frame.DataFrame'>\n",
      "RangeIndex: 34413 entries, 0 to 34412\n",
      "Data columns (total 2 columns):\n",
      " #   Column      Non-Null Count  Dtype \n",
      "---  ------      --------------  ----- \n",
      " 0   customerID  34413 non-null  int64 \n",
      " 1   Churn       34413 non-null  object\n",
      "dtypes: int64(1), object(1)\n",
      "memory usage: 537.8+ KB\n"
     ]
    }
   ],
   "source": [
    "reg_exp_cid = r'\\d+'\n",
    "extracted_cids = cust_churn_df['customerID'].apply(lambda x: int(re.search(reg_exp_cid, x).group())).tolist()\n",
    "\n",
    "cust_churn_df['customerID'] = extracted_cids\n",
    "cust_acc_df['customerID'] = extracted_cids\n",
    "cust_demo_df['customerID'] = extracted_cids\n",
    "cust_serv_df['customerID'] = extracted_cids"
   ]
  },
  {
   "cell_type": "code",
   "execution_count": 159,
   "id": "a690fb21-b1ea-4693-8770-9f2ce00e0638",
   "metadata": {},
   "outputs": [],
   "source": [
    "cust_acc_df = cust_acc_df.rename(columns={'tenure':'Tenure'})\n",
    "cust_demo_df = cust_demo_df.rename(columns={'gender': 'Gender'})"
   ]
  },
  {
   "cell_type": "markdown",
   "id": "5b2a5834-e9a8-458f-9832-dfcd0547350b",
   "metadata": {},
   "source": [
    "### Exploring and Cleaning accounts dataframe"
   ]
  },
  {
   "cell_type": "code",
   "execution_count": 163,
   "id": "4e7c516e-a2ed-4d0c-b127-d2542e8b3493",
   "metadata": {},
   "outputs": [
    {
     "data": {
      "text/plain": [
       "Contract\n",
       "Month-to-month    19693\n",
       "Two year           9823\n",
       "One year           4890\n",
       "NaN                   7\n",
       "Name: count, dtype: int64"
      ]
     },
     "execution_count": 163,
     "metadata": {},
     "output_type": "execute_result"
    }
   ],
   "source": [
    "cust_acc_df['Contract'].value_counts(dropna=False)"
   ]
  },
  {
   "cell_type": "code",
   "execution_count": 165,
   "id": "5912927e-9f4c-4597-b426-c4775b3351de",
   "metadata": {},
   "outputs": [
    {
     "data": {
      "text/plain": [
       "PaperlessBilling\n",
       "Yes    21982\n",
       "No     12398\n",
       "NaN       33\n",
       "Name: count, dtype: int64"
      ]
     },
     "execution_count": 165,
     "metadata": {},
     "output_type": "execute_result"
    }
   ],
   "source": [
    "cust_acc_df['PaperlessBilling'].value_counts(dropna=False)"
   ]
  },
  {
   "cell_type": "code",
   "execution_count": 167,
   "id": "cc619dd1-5d14-4540-8a27-edde691e9eb4",
   "metadata": {},
   "outputs": [
    {
     "data": {
      "text/plain": [
       "PaymentMethod\n",
       "Mailed check                 10643\n",
       "Electronic check              9566\n",
       "Bank transfer (automatic)     8656\n",
       "Credit card (automatic)       5499\n",
       "NaN                             49\n",
       "Name: count, dtype: int64"
      ]
     },
     "execution_count": 167,
     "metadata": {},
     "output_type": "execute_result"
    }
   ],
   "source": [
    "cust_acc_df['PaymentMethod'].value_counts(dropna=False)"
   ]
  },
  {
   "cell_type": "code",
   "execution_count": 245,
   "id": "25e68066-1778-44e0-bea4-8faef76ff5b4",
   "metadata": {},
   "outputs": [
    {
     "data": {
      "text/plain": [
       "2020      \n",
       "4431      \n",
       "4518      \n",
       "14108     \n",
       "14358     \n",
       "15320     \n",
       "15539     \n",
       "23409     \n",
       "23684     \n",
       "24350     \n",
       "28679     \n",
       "30310     \n",
       "Name: TotalCharges, dtype: object"
      ]
     },
     "execution_count": 245,
     "metadata": {},
     "output_type": "execute_result"
    }
   ],
   "source": [
    "cust_acc_df.loc[~cust_acc_df['TotalCharges'].apply(lambda x: x.isdigit() if isinstance(x, str) else True), 'TotalCharges']"
   ]
  },
  {
   "cell_type": "markdown",
   "id": "cf7509b3-52b3-435e-b5a6-cad97991e875",
   "metadata": {},
   "source": [
    "TotalCharges column is of type object and have a few rows where the value is empty string. We can replace these with null values"
   ]
  },
  {
   "cell_type": "code",
   "execution_count": 263,
   "id": "f470aee5-1e5a-4d22-8218-c8b2efbbe040",
   "metadata": {},
   "outputs": [],
   "source": [
    "cust_acc_df.loc[~cust_acc_df['TotalCharges'].apply(lambda x: x.isdigit() if isinstance(x, str) else True), 'TotalCharges'] = np.nan\n",
    "cust_acc_df['TotalCharges'] = cust_acc_df['TotalCharges'].astype('float')"
   ]
  },
  {
   "cell_type": "code",
   "execution_count": 265,
   "id": "e777c80b-b81c-44ff-85bf-ca7339a4cf20",
   "metadata": {},
   "outputs": [
    {
     "data": {
      "text/html": [
       "<div>\n",
       "<style scoped>\n",
       "    .dataframe tbody tr th:only-of-type {\n",
       "        vertical-align: middle;\n",
       "    }\n",
       "\n",
       "    .dataframe tbody tr th {\n",
       "        vertical-align: top;\n",
       "    }\n",
       "\n",
       "    .dataframe thead th {\n",
       "        text-align: right;\n",
       "    }\n",
       "</style>\n",
       "<table border=\"1\" class=\"dataframe\">\n",
       "  <thead>\n",
       "    <tr style=\"text-align: right;\">\n",
       "      <th></th>\n",
       "      <th>customerID</th>\n",
       "      <th>Tenure</th>\n",
       "      <th>MonthlyCharges</th>\n",
       "      <th>TotalCharges</th>\n",
       "    </tr>\n",
       "  </thead>\n",
       "  <tbody>\n",
       "    <tr>\n",
       "      <th>count</th>\n",
       "      <td>34413.000000</td>\n",
       "      <td>34397.000000</td>\n",
       "      <td>34400.000000</td>\n",
       "      <td>34391.000000</td>\n",
       "    </tr>\n",
       "    <tr>\n",
       "      <th>mean</th>\n",
       "      <td>17207.000000</td>\n",
       "      <td>32.912812</td>\n",
       "      <td>65.049760</td>\n",
       "      <td>2493.521648</td>\n",
       "    </tr>\n",
       "    <tr>\n",
       "      <th>std</th>\n",
       "      <td>9934.321743</td>\n",
       "      <td>21.396691</td>\n",
       "      <td>27.496134</td>\n",
       "      <td>2417.484468</td>\n",
       "    </tr>\n",
       "    <tr>\n",
       "      <th>min</th>\n",
       "      <td>1.000000</td>\n",
       "      <td>0.000000</td>\n",
       "      <td>18.250000</td>\n",
       "      <td>18.800000</td>\n",
       "    </tr>\n",
       "    <tr>\n",
       "      <th>25%</th>\n",
       "      <td>8604.000000</td>\n",
       "      <td>16.000000</td>\n",
       "      <td>44.289520</td>\n",
       "      <td>428.700000</td>\n",
       "    </tr>\n",
       "    <tr>\n",
       "      <th>50%</th>\n",
       "      <td>17207.000000</td>\n",
       "      <td>32.000000</td>\n",
       "      <td>64.883350</td>\n",
       "      <td>1533.800000</td>\n",
       "    </tr>\n",
       "    <tr>\n",
       "      <th>75%</th>\n",
       "      <td>25810.000000</td>\n",
       "      <td>49.000000</td>\n",
       "      <td>84.930166</td>\n",
       "      <td>4284.650000</td>\n",
       "    </tr>\n",
       "    <tr>\n",
       "      <th>max</th>\n",
       "      <td>34413.000000</td>\n",
       "      <td>72.000000</td>\n",
       "      <td>118.750000</td>\n",
       "      <td>8684.800000</td>\n",
       "    </tr>\n",
       "  </tbody>\n",
       "</table>\n",
       "</div>"
      ],
      "text/plain": [
       "         customerID        Tenure  MonthlyCharges  TotalCharges\n",
       "count  34413.000000  34397.000000    34400.000000  34391.000000\n",
       "mean   17207.000000     32.912812       65.049760   2493.521648\n",
       "std     9934.321743     21.396691       27.496134   2417.484468\n",
       "min        1.000000      0.000000       18.250000     18.800000\n",
       "25%     8604.000000     16.000000       44.289520    428.700000\n",
       "50%    17207.000000     32.000000       64.883350   1533.800000\n",
       "75%    25810.000000     49.000000       84.930166   4284.650000\n",
       "max    34413.000000     72.000000      118.750000   8684.800000"
      ]
     },
     "execution_count": 265,
     "metadata": {},
     "output_type": "execute_result"
    }
   ],
   "source": [
    "cust_acc_df.describe()"
   ]
  },
  {
   "cell_type": "markdown",
   "id": "26a43823-b08f-4f3c-b7d4-c3be2c7d237c",
   "metadata": {},
   "source": [
    "Accounts table values look clean, except the null values"
   ]
  },
  {
   "cell_type": "markdown",
   "id": "31a7f751-7972-4718-bfeb-1004563994c6",
   "metadata": {},
   "source": [
    "### Exploring and cleaning demographics dataframe"
   ]
  },
  {
   "cell_type": "code",
   "execution_count": 283,
   "id": "458693c1-37b1-447b-a30c-2ee9afb2c3d8",
   "metadata": {},
   "outputs": [
    {
     "data": {
      "text/plain": [
       "['customerID', 'Gender', 'SeniorCitizen', 'Partner', 'Dependents']"
      ]
     },
     "execution_count": 283,
     "metadata": {},
     "output_type": "execute_result"
    }
   ],
   "source": [
    "cust_demo_df.columns.tolist()"
   ]
  },
  {
   "cell_type": "code",
   "execution_count": 281,
   "id": "bcd6385b-395a-495d-b84b-fa16eed06ced",
   "metadata": {},
   "outputs": [
    {
     "data": {
      "text/plain": [
       "Gender\n",
       "Male      17490\n",
       "Female    16918\n",
       "NaN           5\n",
       "Name: count, dtype: int64"
      ]
     },
     "execution_count": 281,
     "metadata": {},
     "output_type": "execute_result"
    }
   ],
   "source": [
    "cust_demo_df['Gender'].value_counts(dropna=False)"
   ]
  },
  {
   "cell_type": "code",
   "execution_count": 285,
   "id": "82c413e6-1885-4de0-a782-c28707379d79",
   "metadata": {},
   "outputs": [
    {
     "data": {
      "text/plain": [
       "SeniorCitizen\n",
       "0.0    28210\n",
       "1.0     6161\n",
       "NaN       42\n",
       "Name: count, dtype: int64"
      ]
     },
     "execution_count": 285,
     "metadata": {},
     "output_type": "execute_result"
    }
   ],
   "source": [
    "cust_demo_df['SeniorCitizen'].value_counts(dropna=False)"
   ]
  },
  {
   "cell_type": "code",
   "execution_count": 287,
   "id": "2e442666-cccf-471f-b76d-56b39ac72fdf",
   "metadata": {},
   "outputs": [
    {
     "data": {
      "text/plain": [
       "Partner\n",
       "No     17901\n",
       "Yes    16512\n",
       "Name: count, dtype: int64"
      ]
     },
     "execution_count": 287,
     "metadata": {},
     "output_type": "execute_result"
    }
   ],
   "source": [
    "cust_demo_df['Partner'].value_counts(dropna=False)"
   ]
  },
  {
   "cell_type": "code",
   "execution_count": 289,
   "id": "1eda1c7c-c0bb-4a38-b1e7-8eb78c8997fe",
   "metadata": {},
   "outputs": [
    {
     "data": {
      "text/plain": [
       "Dependents\n",
       "No     26995\n",
       "Yes     7418\n",
       "Name: count, dtype: int64"
      ]
     },
     "execution_count": 289,
     "metadata": {},
     "output_type": "execute_result"
    }
   ],
   "source": [
    "cust_demo_df['Dependents'].value_counts(dropna=False)"
   ]
  },
  {
   "cell_type": "markdown",
   "id": "f8d75b08-b085-4dde-88cd-ccf1c46a3ec4",
   "metadata": {},
   "source": [
    "### Exploring and cleaning servies table"
   ]
  },
  {
   "cell_type": "code",
   "execution_count": 294,
   "id": "858fa6e3-8be0-4ef0-a7c7-9b916dfb9fb1",
   "metadata": {},
   "outputs": [
    {
     "data": {
      "text/plain": [
       "['customerID',\n",
       " 'PhoneService',\n",
       " 'MultipleLines',\n",
       " 'InternetService',\n",
       " 'OnlineSecurity',\n",
       " 'OnlineBackup',\n",
       " 'DeviceProtection',\n",
       " 'TechSupport',\n",
       " 'StreamingTV',\n",
       " 'StreamingMovies']"
      ]
     },
     "execution_count": 294,
     "metadata": {},
     "output_type": "execute_result"
    }
   ],
   "source": [
    "cust_serv_df.columns.tolist()"
   ]
  },
  {
   "cell_type": "code",
   "execution_count": 298,
   "id": "ba1d642d-0101-4eb6-82ab-334b8bbe716c",
   "metadata": {},
   "outputs": [
    {
     "name": "stdout",
     "output_type": "stream",
     "text": [
      "PhoneService\n",
      "Yes    33520\n",
      "No       881\n",
      "NaN       12\n",
      "Name: count, dtype: int64\n",
      "++++++++++++++++++++++++++++++++\n",
      "MultipleLines\n",
      "No                  16150\n",
      "Yes                 15931\n",
      "No phone service     2332\n",
      "Name: count, dtype: int64\n",
      "++++++++++++++++++++++++++++++++\n",
      "InternetService\n",
      "DSL            15006\n",
      "Fiber optic    14181\n",
      "No              5226\n",
      "Name: count, dtype: int64\n",
      "++++++++++++++++++++++++++++++++\n",
      "OnlineSecurity\n",
      "No                     16890\n",
      "Yes                    12216\n",
      "No internet service     5270\n",
      "NaN                       37\n",
      "Name: count, dtype: int64\n",
      "++++++++++++++++++++++++++++++++\n",
      "OnlineBackup\n",
      "Yes                    15080\n",
      "No                     14064\n",
      "No internet service     5269\n",
      "Name: count, dtype: int64\n",
      "++++++++++++++++++++++++++++++++\n",
      "DeviceProtection\n",
      "Yes                    15037\n",
      "No                     14047\n",
      "No internet service     5329\n",
      "Name: count, dtype: int64\n",
      "++++++++++++++++++++++++++++++++\n",
      "TechSupport\n",
      "No                     16860\n",
      "Yes                    12341\n",
      "No internet service     5177\n",
      "NaN                       35\n",
      "Name: count, dtype: int64\n",
      "++++++++++++++++++++++++++++++++\n",
      "StreamingTV\n",
      "Yes                    16832\n",
      "No                     12272\n",
      "No internet service     5309\n",
      "Name: count, dtype: int64\n",
      "++++++++++++++++++++++++++++++++\n",
      "StreamingMovies\n",
      "Yes                    17138\n",
      "No                     11967\n",
      "No internet service     5308\n",
      "Name: count, dtype: int64\n",
      "++++++++++++++++++++++++++++++++\n"
     ]
    }
   ],
   "source": [
    "for col in cust_serv_df.columns:\n",
    "    if col == 'customerID':\n",
    "        continue\n",
    "    print(cust_serv_df[col].value_counts(dropna=False))\n",
    "    print(\"++++++++++++++++++++++++++++++++\")"
   ]
  },
  {
   "cell_type": "markdown",
   "id": "57f067c4-f226-4937-b8ef-1dff46a7dfe1",
   "metadata": {},
   "source": [
    "## Writing dataframe"
   ]
  },
  {
   "cell_type": "code",
   "execution_count": 304,
   "id": "3d6657f4-1ea8-4431-a3ac-90cdaf7d9c49",
   "metadata": {},
   "outputs": [],
   "source": [
    "output_folder_path = os.path.abspath(\"dev/Deloitte_capstone_project/Output_telecomData\")"
   ]
  },
  {
   "cell_type": "code",
   "execution_count": 316,
   "id": "66c418fa-b144-4ecb-ac94-557697796499",
   "metadata": {},
   "outputs": [
    {
     "name": "stdout",
     "output_type": "stream",
     "text": [
      "['C:\\\\Users\\\\shreyanlnu\\\\dev\\\\Deloitte_capstone_project\\\\Output_telecomData\\\\WithNaNs\\\\Customer_account_info.xlsx', 'C:\\\\Users\\\\shreyanlnu\\\\dev\\\\Deloitte_capstone_project\\\\Output_telecomData\\\\WithNaNs\\\\Customer_Churn.csv', 'C:\\\\Users\\\\shreyanlnu\\\\dev\\\\Deloitte_capstone_project\\\\Output_telecomData\\\\WithNaNs\\\\Customer_demographics.xlsx', 'C:\\\\Users\\\\shreyanlnu\\\\dev\\\\Deloitte_capstone_project\\\\Output_telecomData\\\\WithNaNs\\\\Customer_services.xlsx']\n"
     ]
    }
   ],
   "source": [
    "inner_output_folder_name = \"WithNaNs\"\n",
    "inner_output_folder_path = os.path.join(output_folder_path, inner_output_folder_name)\n",
    "\n",
    "if not os.path.exists(inner_output_folder_path):\n",
    "    os.makedirs(inner_output_folder_path)\n",
    "\n",
    "output_file_paths = [os.path.join(inner_output_folder_path, output_filename) for output_filename in datafile_names]\n",
    "print(output_file_paths)"
   ]
  },
  {
   "cell_type": "code",
   "execution_count": 318,
   "id": "bfb00eec-c6b7-416f-b9d2-5cb507b7b426",
   "metadata": {},
   "outputs": [],
   "source": [
    "cust_acc_df.to_csv(output_file_paths[0])\n",
    "cust_churn_df.to_csv(output_file_paths[1])\n",
    "cust_demo_df.to_csv(output_file_paths[2])\n",
    "cust_serv_df.to_csv(output_file_paths[3])"
   ]
  },
  {
   "cell_type": "code",
   "execution_count": null,
   "id": "b56ecc41-7449-45bc-bc90-22e4f9e69f14",
   "metadata": {},
   "outputs": [],
   "source": []
  }
 ],
 "metadata": {
  "kernelspec": {
   "display_name": "Python 3 (ipykernel)",
   "language": "python",
   "name": "python3"
  },
  "language_info": {
   "codemirror_mode": {
    "name": "ipython",
    "version": 3
   },
   "file_extension": ".py",
   "mimetype": "text/x-python",
   "name": "python",
   "nbconvert_exporter": "python",
   "pygments_lexer": "ipython3",
   "version": "3.12.4"
  }
 },
 "nbformat": 4,
 "nbformat_minor": 5
}
